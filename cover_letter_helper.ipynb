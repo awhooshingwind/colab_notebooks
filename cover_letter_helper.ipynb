{
  "nbformat": 4,
  "nbformat_minor": 0,
  "metadata": {
    "colab": {
      "name": "cover_letter_helper.ipynb",
      "provenance": [],
      "collapsed_sections": [],
      "authorship_tag": "ABX9TyOG+uSbLLP5z5g5PYjvB7vi",
      "include_colab_link": true
    },
    "kernelspec": {
      "name": "python3",
      "display_name": "Python 3"
    },
    "language_info": {
      "name": "python"
    }
  },
  "cells": [
    {
      "cell_type": "markdown",
      "metadata": {
        "id": "view-in-github",
        "colab_type": "text"
      },
      "source": [
        "<a href=\"https://colab.research.google.com/github/awhooshingwind/colab_notebooks/blob/main/cover_letter_helper.ipynb\" target=\"_parent\"><img src=\"https://colab.research.google.com/assets/colab-badge.svg\" alt=\"Open In Colab\"/></a>"
      ]
    },
    {
      "cell_type": "code",
      "execution_count": 3,
      "metadata": {
        "id": "dITuk3C16NMA"
      },
      "outputs": [],
      "source": [
        "from bs4 import BeautifulSoup\n",
        "import requests\n",
        "import string\n",
        "import math\n",
        "import random\n",
        "from collections import Counter"
      ]
    },
    {
      "cell_type": "code",
      "source": [
        "def make_output(words_list, limiter=0.22, force_limit=False):\n",
        "  if len(words_list) == 1:\n",
        "    return '{0} is certainly a priority'.format(words_list[0]).capitalize() + '.'\n",
        "\n",
        "  popl = [word for words in words_list for word in words]\n",
        "  # print(len(popl))\n",
        "  if len(popl) > 70 and not force_limit:\n",
        "    limiter = 0.12\n",
        "  if len(popl) > 150 and not force_limit:\n",
        "    limiter = 0.08\n",
        "  out = random.sample(popl, random.randint(3, math.floor(len(popl)*limiter)))\n",
        "  # print(out)\n",
        "  res = ' '.join(o for o in out)\n",
        "\n",
        "  return res.capitalize() + '.'"
      ],
      "metadata": {
        "id": "hze9wAh5YMGq"
      },
      "execution_count": 53,
      "outputs": []
    },
    {
      "cell_type": "markdown",
      "source": [
        "### Exclusions"
      ],
      "metadata": {
        "id": "s8mI4m-q0vbJ"
      }
    },
    {
      "cell_type": "code",
      "source": [
        "exclude = [\n",
        "           'part',\n",
        "           'with',\n",
        "           'this',\n",
        "           'have',\n",
        "           'name',\n",
        "           'been',\n",
        "           'full',\n",
        "           'time',\n",
        "           'well', \n",
        "           'will',\n",
        "           'life',\n",
        "           'email',\n",
        "           'your',\n",
        "           'self',\n",
        "           'must',\n",
        "           'work',\n",
        "           'when',\n",
        "           'some',\n",
        "           'each',\n",
        "           'good',\n",
        "           'many',\n",
        "           'both',\n",
        "           'within',\n",
        "           'your',\n",
        "           'where',\n",
        "           'that',\n",
        "           'then',\n",
        "           'many',\n",
        "           'from',\n",
        "           'very',\n",
        "           'their',\n",
        "]  "
      ],
      "metadata": {
        "id": "7L43T2K1iA_x"
      },
      "execution_count": 5,
      "outputs": []
    },
    {
      "cell_type": "markdown",
      "source": [
        "\n",
        "\n",
        "---\n",
        "\n",
        "## Scraper:"
      ],
      "metadata": {
        "id": "nPyKu66zIbAE"
      }
    },
    {
      "cell_type": "code",
      "source": [
        "\n",
        "URL = 'https://www.indeed.com/viewjob?jk=6a8f04c2ce682832&tk=1g87vvpfcmjhp800&from=serp%2CiaBackPress&vjs=3'\n",
        "\n",
        "\n",
        "# Make the scrape\n",
        "page = requests.get(URL)\n",
        "soup = BeautifulSoup(page.content, \"html.parser\")\n",
        "# print(soup.prettify)\n",
        "\n",
        "# get job description\n",
        "# based on indeed layout, modify q_str for different queries\n",
        "q_str = 'jobDescriptionText'\n",
        "job_desc = soup.find(id=q_str)\n",
        "\n",
        "# for text in job_desc.stripped_strings:\n",
        "#   print(text)"
      ],
      "metadata": {
        "id": "mvMTMPFpG_L7"
      },
      "execution_count": 31,
      "outputs": []
    },
    {
      "cell_type": "markdown",
      "source": [
        "## Frequency"
      ],
      "metadata": {
        "id": "t0mJM6MF0-3S"
      }
    },
    {
      "cell_type": "code",
      "source": [
        "# process the soup (split and strip punc)\n",
        "# set to ignore short words and words in exclude list (above)\n",
        "tmp = [\n",
        "       t.lower().strip(string.punctuation) \\\n",
        "       for text in job_desc.stripped_strings for t in text.split() \\\n",
        "       if len(t) > 3 and t.lower().strip(string.punctuation) not in exclude]\n",
        "\n",
        "# make counter\n",
        "hist = Counter(tmp)\n",
        "# arbitrariliy discard some of the bottom (usually Indeed fluff)\n",
        "# needs work to be more precise\n",
        "bottom = math.ceil(len(tmp)*0.29)\n",
        "least = hist.most_common()[:-bottom-1:-1]\n",
        "max = hist.most_common()[0][1]\n",
        "\n",
        "clean = [h for h in hist.most_common() if h not in least]\n",
        "clean"
      ],
      "metadata": {
        "colab": {
          "base_uri": "https://localhost:8080/"
        },
        "id": "YK9PO6w9NTXM",
        "outputId": "56a1f5a9-bc8b-4bd0-c4b3-0f8270aae459"
      },
      "execution_count": 48,
      "outputs": [
        {
          "output_type": "execute_result",
          "data": {
            "text/plain": [
              "[('service', 16),\n",
              " ('campus', 11),\n",
              " ('students', 11),\n",
              " ('pantry', 11),\n",
              " ('food', 10),\n",
              " ('americorps', 8),\n",
              " ('program', 8),\n",
              " ('washington', 7),\n",
              " ('clec', 7),\n",
              " ('members', 7),\n",
              " ('student', 7),\n",
              " ('support', 7),\n",
              " ('community', 7),\n",
              " ('hours', 7),\n",
              " ('leadership', 5),\n",
              " ('engagement', 5),\n",
              " ('wacc', 5),\n",
              " ('insecurity', 5),\n",
              " ('civic', 4),\n",
              " ('compact', 4),\n",
              " ('skills', 4),\n",
              " ('citizens', 4),\n",
              " ('volunteers', 4),\n",
              " ('partnerships', 4),\n",
              " ('equity', 4),\n",
              " ('building', 4),\n",
              " ('member', 4),\n",
              " ('through', 3),\n",
              " ('resources', 3),\n",
              " ('awareness', 3),\n",
              " ('inclusion', 3),\n",
              " ('ability', 3),\n",
              " ('required', 3),\n",
              " ('national', 3),\n",
              " ('professional', 3),\n",
              " ('development', 3),\n",
              " ('strong', 3),\n",
              " ('veterans', 3),\n",
              " ('u.s', 3),\n",
              " ('state', 2),\n",
              " ('university', 2),\n",
              " ('description', 2),\n",
              " ('corps', 2),\n",
              " ('believes', 2),\n",
              " ('should', 2),\n",
              " ('empowered', 2),\n",
              " ('thrive', 2),\n",
              " ('school', 2),\n",
              " ('beyond', 2),\n",
              " ('order', 2),\n",
              " ('become', 2),\n",
              " ('compassionate', 2),\n",
              " ('leaders', 2),\n",
              " ('engaged', 2),\n",
              " ('tomorrow', 2),\n",
              " ('aims', 2),\n",
              " ('recruit', 2),\n",
              " ('mobilize', 2),\n",
              " ('deliver', 2),\n",
              " ('direct', 2),\n",
              " ('variety', 2),\n",
              " ('focus', 2),\n",
              " ('areas', 2),\n",
              " ('idaho', 2),\n",
              " ('fosters', 2),\n",
              " ('campus-community', 2),\n",
              " ('knowledge', 2),\n",
              " ('networks', 2),\n",
              " ('focused', 2),\n",
              " ('improving', 2),\n",
              " ('retention', 2),\n",
              " ('success', 2),\n",
              " ('underrepresented', 2),\n",
              " ('increasing', 2),\n",
              " ('sustainable', 2),\n",
              " ('campus/community', 2),\n",
              " ('resilient', 2),\n",
              " ('communities', 2),\n",
              " ('project', 2),\n",
              " ('passed', 2),\n",
              " ('sustained', 2),\n",
              " ('address', 2),\n",
              " ('policies', 2),\n",
              " ('staff', 2),\n",
              " ('management', 2),\n",
              " ('coordinate', 2),\n",
              " ('activities', 2),\n",
              " ('information', 2),\n",
              " ('social', 2),\n",
              " ('applicable', 2),\n",
              " ('data', 2),\n",
              " ('participate', 2),\n",
              " ('team', 2),\n",
              " ('site', 2),\n",
              " ('opportunities', 2),\n",
              " ('helping', 2),\n",
              " ('access', 2),\n",
              " ('cougs', 2),\n",
              " ('experience', 2),\n",
              " ('services', 2),\n",
              " ('committed', 2),\n",
              " ('criminal', 2),\n",
              " ('history', 2),\n",
              " ('check', 2),\n",
              " ('united', 2),\n",
              " ('states', 2),\n",
              " ('citizen', 2),\n",
              " ('naturalized', 2),\n",
              " ('lawful', 2),\n",
              " ('permanent', 2),\n",
              " ('occasional', 2),\n",
              " ('weekend', 2),\n",
              " ('term', 2),\n",
              " ('apply', 2),\n",
              " ('persons', 2),\n",
              " ('eligibility', 2),\n",
              " ('summary', 1),\n",
              " ('prevalent', 1),\n",
              " ('issue', 1),\n",
              " ('facing', 1),\n",
              " ('nearly', 1),\n",
              " ('four-year', 1),\n",
              " ('institutions', 1),\n",
              " ('experienced', 1),\n",
              " ('were', 1),\n",
              " ('affected', 1),\n",
              " ('homelessness', 1),\n",
              " ('spring', 1),\n",
              " ('2021', 1),\n",
              " ('referendum', 1),\n",
              " ('50-1', 1),\n",
              " ('which', 1),\n",
              " ('added', 1),\n",
              " ('semester', 1),\n",
              " ('undergraduate', 1),\n",
              " ('sole', 1),\n",
              " ('purpose', 1),\n",
              " ('providing', 1),\n",
              " ('funding', 1),\n",
              " ('hunger', 1),\n",
              " ('body', 1),\n",
              " ('catapulted', 1),\n",
              " (\"wsu's\", 1),\n",
              " ('challenges', 1),\n",
              " ('associate', 1),\n",
              " ('systematic', 1),\n",
              " ('way', 1),\n",
              " ('amazing', 1),\n",
              " ('opportunity', 1),\n",
              " ('allowed', 1),\n",
              " ('bring', 1),\n",
              " ('hyper-focus', 1),\n",
              " ('operations', 1),\n",
              " ('procedures', 1),\n",
              " ('establishing', 1),\n",
              " ('procurement', 1),\n",
              " ('systems', 1),\n",
              " ('supporting', 1),\n",
              " ('managing', 1),\n",
              " ('position', 1),\n",
              " ('partners', 1),\n",
              " ('programming', 1),\n",
              " ('such', 1),\n",
              " ('cooking', 1),\n",
              " ('demos', 1),\n",
              " ('resource', 1),\n",
              " ('referrals', 1),\n",
              " ('workshops', 1),\n",
              " ('energize', 1),\n",
              " ('meal', 1),\n",
              " ('plan', 1),\n",
              " ('card-swipe', 1),\n",
              " ('outreach', 1),\n",
              " ('drives', 1),\n",
              " ('gardening', 1),\n",
              " ('composting', 1),\n",
              " ('efforts', 1),\n",
              " ('americorps/washington', 1),\n",
              " ('abide', 1)]"
            ]
          },
          "metadata": {},
          "execution_count": 48
        }
      ]
    },
    {
      "cell_type": "markdown",
      "source": [
        "## Output"
      ],
      "metadata": {
        "id": "H0ySpAKjcENp"
      }
    },
    {
      "cell_type": "code",
      "source": [
        "output = {}\n",
        "for x,y in clean:\n",
        "  if y in output:\n",
        "    output[y].append(x)\n",
        "  else:\n",
        "    output[y] = [x]\n",
        "most = []\n",
        "mids = []\n",
        "lows = []\n",
        "for k, v in output.items():\n",
        "  if k == max:\n",
        "    most = v\n",
        "  if k > 2 and k < max:\n",
        "    mids.append(v)\n",
        "  if k <= 2:\n",
        "    lows.append(v)"
      ],
      "metadata": {
        "id": "HBakrg3HlrqT"
      },
      "execution_count": 50,
      "outputs": []
    },
    {
      "cell_type": "code",
      "source": [
        "print(make_output(most))\n",
        "print(make_output(mids) + ' ' + make_output(lows, limiter=0.08, force_limit=True))\n",
        "print(make_output(lows)+ '\\n' + make_output(mids) + ' ' + make_output(mids))\n",
        "print('\\n' + make_output(lows) + '\\n' + make_output(mids) + ' ' + make_output(mids))"
      ],
      "metadata": {
        "colab": {
          "base_uri": "https://localhost:8080/"
        },
        "id": "1w8YAxoaxK3C",
        "outputId": "cdc212ae-e768-4c89-ffcd-30e3a7984890"
      },
      "execution_count": 67,
      "outputs": [
        {
          "output_type": "stream",
          "name": "stdout",
          "text": [
            "Service is certainly a priority.\n",
            "Engagement compact member national equity. Institutions staff aims deliver.\n",
            "Operations history procurement helping believes empowered focused affected address four-year social.\n",
            "Equity required members clec student. Engagement hours pantry volunteers.\n",
            "\n",
            "Retention homelessness undergraduate leaders abide knowledge engaged.\n",
            "Members u.s insecurity veterans equity civic. Student required partnerships development veterans.\n"
          ]
        }
      ]
    }
  ]
}